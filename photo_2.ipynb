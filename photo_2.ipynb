{
 "cells": [
  {
   "cell_type": "markdown",
   "metadata": {},
   "source": [
    "# 1 : Lire tout le fichier \n",
    "Nous avons déjà vu ce code dans le cours, mais le revoir sera utile pour la suite :"
   ]
  },
  {
   "cell_type": "code",
   "execution_count": null,
   "metadata": {},
   "outputs": [],
   "source": [
    "# import de la librairie PIL et de la librairie IPython.display\n",
    "import PIL.Image\n",
    "from IPython.display import Image\n",
    "\n",
    "# ouverture du fichier :\n",
    "img = PIL.Image.open('pomme.jpg')\n",
    "\n",
    "# lecture dans le fichier de la taille de l'image\n",
    "taille=img.size\n",
    "print('taille de l image =',taille)\n",
    "# on récupère la largeur et la hauteur :\n",
    "l,h=taille\n",
    "\n",
    "# affichage la taille de l'image\n",
    "print(\"largeur: \",l,\" hauteur:\",h)\n",
    "\n",
    "# lecture de toutes les lignes, et pour chaque ligne, de toutes les colonnes :\n",
    "for x in range(h) :\n",
    "    for y in range(l):\n",
    "        r,v,b=getpixel(x,y)\n",
    "\n",
    "# Afficher l'image\n",
    "Image(filename='pomme.jpg') \n",
    "\n",
    "\n"
   ]
  },
  {
   "cell_type": "markdown",
   "metadata": {},
   "source": [
    "# 2 : premier filtre : échanger deux couleurs :\n",
    "le code ci-dessous échange les valeur de vert et du rouge.\n",
    "Expérimente d'autre inversion et observe le résultat"
   ]
  },
  {
   "cell_type": "code",
   "execution_count": null,
   "metadata": {},
   "outputs": [],
   "source": [
    "# import de la librairie PIL\n",
    "import PIL.Image\n",
    "from IPython.display import Image\n",
    "\n",
    "# ouverture du fichier :\n",
    "img = PIL.Image.open('pomme.jpg')\n",
    "\n",
    "# lecture et affichage de la taille de l'image\n",
    "l,h=img.size\n",
    "print(\"largeur: \",l,\" hauteur:\",h)\n",
    "\n",
    "# lecture de toutes les lignes, et pour chaque ligne, de toutes les colonnes :\n",
    "for x in range(h) :\n",
    "    for y in range(l):\n",
    "        r,v,b=img.getpixel( (x,y) )\n",
    "        # on réécrit le pixel mais en inversant r et b\n",
    "        img.putpixel( (x,y) , (v,r,b) )\n",
    "################## A VOUS ##############\n",
    "# modifie la ligne au dessus, pour changer le filtre de façon similaire\n",
    "\n",
    "\n",
    "# sauvegarde du fichier :\n",
    "img.save('out.jpg')\n",
    "\n",
    "# Afficher l'image\n",
    "Image(filename='out.jpg') \n",
    "\n",
    "\n"
   ]
  },
  {
   "cell_type": "markdown",
   "metadata": {},
   "source": [
    "# 3 : saturer une couleur\n",
    "Inspire toi de l'exemple ci-dessus mais cette fois on va saturer la couleur bleu.\n",
    "tu remplacera la valeur du bleu par 2*b \n",
    "mais on ne veux pas dépasser 255 !!!\n",
    "la couleur sera donc calculé ainsi \n",
    "b = 2 * b\n",
    "si b > 255 :\n",
    "   b=255\n",
    "   \n",
    "A toi !"
   ]
  },
  {
   "cell_type": "code",
   "execution_count": null,
   "metadata": {},
   "outputs": [],
   "source": [
    "# import de la librairie PIL\n",
    "import PIL.Image\n",
    "from IPython.display import Image\n",
    "\n",
    "# ouverture du fichier :\n",
    "img = PIL.Image.open('pomme.jpg')\n",
    "\n",
    "# lecture et affichage de la taille de l'image\n",
    "l,h=img.size\n",
    "print(\"largeur: \",l,\" hauteur:\",h)\n",
    "\n",
    "# lecture de toutes les lignes, et pour chaque ligne, de toutes les colonnes :\n",
    "for x in range(h) :\n",
    "    for y in range(l):\n",
    "        r,v,b=img.getpixel( (x,y) )\n",
    "        # on réécrit le pixel mais en inversant r et b\n",
    "################## A VOUS ##############\n",
    "        img.putpixel( (x,y) , (v,r,b) )\n",
    "\n",
    "\n",
    "# sauvegarde du fichier :\n",
    "img.save('out.jpg')\n",
    "\n",
    "# Afficher l'image\n",
    "Image(filename='out.jpg') \n",
    "\n",
    "\n"
   ]
  },
  {
   "cell_type": "markdown",
   "metadata": {},
   "source": [
    "# 4 passer en noir et blanc\n",
    "Reprenons le code précédent. Cette fois on veux passer l'image en niveau de gris. \n",
    "En dessous de A VOUS tu doit modifier, mais cette fois il faudra écrire une teinte de gris....\n",
    "le niveau de gris, g,  peut être calculé comme la moyenne des 3 valeurs r v et b\n",
    "la teinte sera donc (g,g,g)\n",
    "A toi de jouer !"
   ]
  },
  {
   "cell_type": "code",
   "execution_count": null,
   "metadata": {},
   "outputs": [],
   "source": [
    "# import de la librairie PIL\n",
    "import PIL.Image\n",
    "from IPython.display import Image\n",
    "\n",
    "# ouverture du fichier :\n",
    "img = PIL.Image.open('pomme.jpg')\n",
    "\n",
    "# lecture et affichage de la taille de l'image\n",
    "l,h=img.size\n",
    "print(\"largeur: \",l,\" hauteur:\",h)\n",
    "\n",
    "# lecture de toutes les lignes, et pour chaque ligne, de toutes les colonnes :\n",
    "for x in range(h) :\n",
    "    for y in range(l):\n",
    "        r,v,b=img.getpixel( (x,y) )\n",
    "################## A VOUS ##############\n",
    "        # calcul g = moyenne de r,v,b puis modife la ligne ci-dessous\n",
    "        img.putpixel( (x,y) , (v,r,b) )\n",
    "\n",
    "\n",
    "# sauvegarde du fichier :\n",
    "img.save('out.jpg')\n",
    "\n",
    "# Afficher l'image\n",
    "Image(filename='out.jpg') "
   ]
  },
  {
   "cell_type": "markdown",
   "metadata": {},
   "source": [
    "# 5 Changer la couleur du fond\n",
    "Ici on veux modifier seulement la couleur du fond. Donc pour chaque pixel (x,y) on chagera la teinte si on est proche du blanc, c'est à dire si r>250 and v>250 and b>250\n",
    "\n",
    "tu remplacera le blanc par la teinte de ton choix"
   ]
  },
  {
   "cell_type": "code",
   "execution_count": null,
   "metadata": {},
   "outputs": [],
   "source": [
    "# import de la librairie PIL\n",
    "import PIL.Image\n",
    "from IPython.display import Image\n",
    "\n",
    "# ouverture du fichier :\n",
    "img = PIL.Image.open('pomme.jpg')\n",
    "\n",
    "# lecture et affichage de la taille de l'image\n",
    "l,h=img.size\n",
    "print(\"largeur: \",l,\" hauteur:\",h)\n",
    "\n",
    "# lecture de toutes les lignes, et pour chaque ligne, de toutes les colonnes :\n",
    "for x in range(h) :\n",
    "    for y in range(l):\n",
    "        r,v,b=img.getpixel( (x,y) )\n",
    "################## A VOUS ##############\n",
    "        # détermine si ce pixel doit être modifié. si oui effectue le changement\n",
    "        img.putpixel( (x,y) , (v,r,b) )\n",
    "\n",
    "\n",
    "# sauvegarde du fichier :\n",
    "img.save('out.jpg')\n",
    "\n",
    "# Afficher l'image\n",
    "Image(filename='out.jpg') \n",
    "\n"
   ]
  },
  {
   "cell_type": "markdown",
   "metadata": {},
   "source": [
    "# 6 le négatif\n",
    "Lorsque l'on connait les valeurs de r v et b, on peux calculer les valeurs du négatif ainsi :\n",
    "r est remplacé par 255-r\n",
    "v est remplacé par 255-v\n",
    "b est remplacé par 255-b\n",
    "\n",
    "Pourra tu produire un négatif de cette image ?"
   ]
  },
  {
   "cell_type": "code",
   "execution_count": null,
   "metadata": {},
   "outputs": [],
   "source": [
    "# import de la librairie PIL\n",
    "import PIL.Image\n",
    "from IPython.display import Image\n",
    "\n",
    "# ouverture du fichier :\n",
    "img = PIL.Image.open('pomme.jpg')\n",
    "\n",
    "# lecture et affichage de la taille de l'image\n",
    "l,h=img.size\n",
    "print(\"largeur: \",l,\" hauteur:\",h)\n",
    "\n",
    "# lecture de toutes les lignes, et pour chaque ligne, de toutes les colonnes :\n",
    "for x in range(h) :\n",
    "    for y in range(l):\n",
    "        r,v,b=img.getpixel( (x,y) )\n",
    "################## A VOUS ##############\n",
    "        # calcule les nouvelles valeurs puis effectue le changement\n",
    "        img.putpixel( (x,y) , (v,r,b) )\n",
    "\n",
    "\n",
    "# sauvegarde du fichier :\n",
    "img.save('out.jpg')\n",
    "\n",
    "# Afficher l'image\n",
    "Image(filename='out.jpg') \n",
    "\n",
    "\n"
   ]
  },
  {
   "cell_type": "markdown",
   "metadata": {},
   "source": [
    "# 7 Traiter seulement une partie de l'image\n",
    "Lit ce code et essaye de deviner ce qui va arriver.\n",
    "Ensuite exécute le pour vérifier\n",
    "Enfin, modifie le pour mettre en N&B la partie inférieure droite de l'image"
   ]
  },
  {
   "cell_type": "code",
   "execution_count": null,
   "metadata": {},
   "outputs": [],
   "source": [
    "# import de la librairie PIL\n",
    "import PIL.Image\n",
    "from IPython.display import Image\n",
    "\n",
    "# ouverture du fichier :\n",
    "img = PIL.Image.open('pomme.jpg')\n",
    "\n",
    "# lecture et affichage de la taille de l'image\n",
    "l,h=img.size\n",
    "print(\"largeur: \",l,\" hauteur:\",h)\n",
    "\n",
    "# lecture de toutes les lignes, et pour chaque ligne, de toutes les colonnes :\n",
    "for x in range(h) :\n",
    "    for y in range(l):\n",
    "        r,v,b=img.getpixel( (x,y) )\n",
    "        if 200<x<300 and 200<y<300 :\n",
    "            g=(r+v+b)//3\n",
    "            img.putpixel( (x,y) , (g,g,g) )\n",
    "\n",
    "\n",
    "# sauvegarde du fichier :\n",
    "img.save('out.jpg')\n",
    "\n",
    "# Afficher l'image\n",
    "Image(filename='out.jpg') \n",
    "\n",
    "\n"
   ]
  },
  {
   "cell_type": "code",
   "execution_count": null,
   "metadata": {
    "collapsed": true
   },
   "outputs": [],
   "source": []
  }
 ],
 "metadata": {
  "kernelspec": {
   "display_name": "Python 3",
   "language": "python",
   "name": "python3"
  },
  "language_info": {
   "codemirror_mode": {
    "name": "ipython",
    "version": 3
   },
   "file_extension": ".py",
   "mimetype": "text/x-python",
   "name": "python",
   "nbconvert_exporter": "python",
   "pygments_lexer": "ipython3",
   "version": "3.4.5"
  }
 },
 "nbformat": 4,
 "nbformat_minor": 2
}
