{
 "cells": [
  {
   "cell_type": "markdown",
   "metadata": {},
   "source": [
    "# 1 : afficher l'image"
   ]
  },
  {
   "cell_type": "code",
   "execution_count": null,
   "metadata": {},
   "outputs": [],
   "source": [
    "# import de la librairie PIL et de la librairie IPython.display\n",
    "import PIL.Image\n",
    "from IPython.display import Image\n",
    "\n",
    "# ouverture du fichier :\n",
    "img = PIL.Image.open('pomme.jpg')\n",
    "\n",
    "# lecture dans le fichier de la taille de l'image\n",
    "taille=img.size\n",
    "print('taille de l image =',taille)\n",
    "# on récupère la largeur et la hauteur :\n",
    "l,h=taille\n",
    "\n",
    "# affichage la taille de l'image\n",
    "print(\"largeur: \",l,\" hauteur:\",h)\n",
    "\n",
    "\n",
    "# Afficher l'image\n",
    "Image(filename='pomme.jpg') \n",
    "\n",
    "\n"
   ]
  },
  {
   "cell_type": "markdown",
   "metadata": {},
   "source": [
    "# 2 : lire dans le fichier les couleur d'un pixel"
   ]
  },
  {
   "cell_type": "code",
   "execution_count": null,
   "metadata": {},
   "outputs": [],
   "source": [
    "# import de la librairie PIL\n",
    "import PIL.Image\n",
    "from IPython.display import Image\n",
    "\n",
    "# ouverture du fichier :\n",
    "img = PIL.Image.open('pomme.jpg')\n",
    "\n",
    "# lecture et affichage de la taille de l'image\n",
    "l,h=img.size\n",
    "print(\"largeur: \",l,\" hauteur:\",h)\n",
    "\n",
    "# lecture d'un pixel situé vers le haut à gauche dans l'image :\n",
    "r,v,b=img.getpixel( (10,10) )\n",
    "# affichage des données lues\n",
    "print('rouge=',r,'vert=',v,'bleu=',b)\n",
    "\n",
    "################## A VOUS ##############\n",
    "# lire et afficher la couleur d'un pixel situé dans le vert de la pomme\n",
    "\n",
    "\n",
    "\n",
    "# Afficher l'image\n",
    "Image(filename='pomme.jpg') \n",
    "\n",
    "\n"
   ]
  },
  {
   "cell_type": "markdown",
   "metadata": {},
   "source": [
    "# 3 modifier un pixel : nous allons colorier un pixel en rouge"
   ]
  },
  {
   "cell_type": "code",
   "execution_count": null,
   "metadata": {},
   "outputs": [],
   "source": [
    "# import de la librairie PIL\n",
    "import PIL.Image\n",
    "from IPython.display import Image\n",
    "\n",
    "# ouverture du fichier :\n",
    "img = PIL.Image.open('pomme.jpg')\n",
    "\n",
    "# lecture (console) la taille de l'image\n",
    "l,h=img.size\n",
    "# affichage (console) la taille de l'image\n",
    "print(\"largeur: \",l,\" hauteur:\",h)\n",
    "\n",
    "# On ecrit dans l'image : on met du rouge au pixel (10,10) :\n",
    "img.putpixel( (10,10) , (255,0,0))\n",
    "\n",
    "# On enregistre dans un nouveau fichier\n",
    "img.save('out.jpg')\n",
    "\n",
    "# Afficher l'image\n",
    "Image(filename='out.jpg') \n",
    "\n",
    "\n"
   ]
  },
  {
   "cell_type": "markdown",
   "metadata": {},
   "source": [
    "on ne voit pas bien !\n",
    "on va colorier toute une ligne :"
   ]
  },
  {
   "cell_type": "code",
   "execution_count": null,
   "metadata": {},
   "outputs": [],
   "source": [
    "# import de la librairie PIL\n",
    "import PIL.Image\n",
    "from IPython.display import Image\n",
    "\n",
    "# ouverture du fichier :\n",
    "img = PIL.Image.open('pomme.jpg')\n",
    "\n",
    "# lecture (console) la taille de l'image\n",
    "l,h=img.size\n",
    "# affichage (console) la taille de l'image\n",
    "print(\"largeur: \",l,\" hauteur:\",h)\n",
    "\n",
    "# On ecrit dans l'image :\n",
    "# on met une ligne rouge pour tout les pixel d'ordonnée y=10 :\n",
    "for x in range(500) :\n",
    "   img.putpixel( (x,10) , (255,0,0))\n",
    "\n",
    "# On enregistre dans un nouveau fichier\n",
    "img.save('out.jpg')\n",
    "\n",
    "# Afficher l'image\n",
    "Image(filename='out.jpg') \n",
    "\n",
    "\n"
   ]
  },
  {
   "cell_type": "markdown",
   "metadata": {},
   "source": [
    "# A toi !\n",
    "Tu dois modifier le code pour créer 4 lignes : la première est celle déjà crée, \n",
    "\n",
    "ajoute une autre ligne horizontale à y=490\n",
    "ajoute 2 lignes verticales, l'une à x=10 l'autre à x=490\n"
   ]
  },
  {
   "cell_type": "code",
   "execution_count": null,
   "metadata": {},
   "outputs": [],
   "source": [
    "# import de la librairie PIL\n",
    "import PIL.Image\n",
    "from IPython.display import Image\n",
    "\n",
    "# ouverture du fichier :\n",
    "img = PIL.Image.open('pomme.jpg')\n",
    "\n",
    "# lecture (console) la taille de l'image\n",
    "l,h=img.size\n",
    "# affichage (console) la taille de l'image\n",
    "print(\"largeur: \",l,\" hauteur:\",h)\n",
    "\n",
    "# On ecrit dans l'image :\n",
    "# on met une ligne rouge pour tout les pixel d'ordonnée y=10 :\n",
    "for x in range(500) :\n",
    "   img.putpixel( (x,10) , (255,0,0))\n",
    "\n",
    "###################### A TOI ajoute ici ce qu'il faut :\n",
    "\n",
    "\n",
    "\n",
    "\n",
    "# On enregistre dans un nouveau fichier\n",
    "img.save('out.jpg')\n",
    "\n",
    "# Afficher l'image\n",
    "Image(filename='out.jpg') \n",
    "\n",
    "\n"
   ]
  },
  {
   "cell_type": "markdown",
   "metadata": {},
   "source": [
    "Bien joué ! \n",
    "Tu sais maintenant utiliser :\n",
    "size\n",
    "getpixel\n",
    "putpixel\n",
    "et display\n",
    "\n",
    "Tu as tout ce dont tu as besoin pour passer au TP2 ou nous allons créer des filtres d'images."
   ]
  }
 ],
 "metadata": {
  "kernelspec": {
   "display_name": "Python 3",
   "language": "python",
   "name": "python3"
  },
  "language_info": {
   "codemirror_mode": {
    "name": "ipython",
    "version": 3
   },
   "file_extension": ".py",
   "mimetype": "text/x-python",
   "name": "python",
   "nbconvert_exporter": "python",
   "pygments_lexer": "ipython3",
   "version": "3.7.8"
  }
 },
 "nbformat": 4,
 "nbformat_minor": 2
}
